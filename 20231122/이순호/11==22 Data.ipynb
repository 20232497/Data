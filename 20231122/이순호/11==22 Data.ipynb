{
 "cells": [
  {
   "cell_type": "code",
   "execution_count": 114,
   "id": "cc67e47c",
   "metadata": {},
   "outputs": [
    {
     "name": "stdout",
     "output_type": "stream",
     "text": [
      "한양대, 95.57%\n"
     ]
    }
   ],
   "source": [
    "import csv\n",
    "import matplotlib.pyplot as plt\n",
    "\n",
    "filename = '2023년 10월  교통카드 통계자료.csv'\n",
    "\n",
    "f = open(filename, 'r', encoding='utf-8')\n",
    "data = csv.reader(f)\n",
    "\n",
    "header = next(data)\n",
    "대빵 = 0\n",
    "\n",
    "for i in data:\n",
    "    유임승차 = int(i[4])\n",
    "    무임승차 = int(i[6])\n",
    "   \n",
    "    if 유임승차 > 100 and 무임승차 > 100:\n",
    "    \n",
    "        비율 = 유임승차 / (유임승차 + 무임승차)\n",
    "        if 비율 > 대빵:\n",
    "            대빵 = 비율\n",
    "            역 = i[3]\n",
    "            \n",
    "print(f'{역}, {대빵:.2%}')"
   ]
  },
  {
   "cell_type": "code",
   "execution_count": 59,
   "id": "3838dd6e",
   "metadata": {},
   "outputs": [
    {
     "data": {
      "text/plain": [
       "['\\ufeff사용월', '호선명', '역ID', '지하철역', '유임승차', '유임하차', '무임승차', '무임하차', '작업일시']"
      ]
     },
     "execution_count": 59,
     "metadata": {},
     "output_type": "execute_result"
    }
   ],
   "source": [
    "header"
   ]
  },
  {
   "cell_type": "code",
   "execution_count": 117,
   "id": "f8913c82",
   "metadata": {},
   "outputs": [
    {
     "name": "stdout",
     "output_type": "stream",
     "text": [
      "유임승차: 잠실(송파구청) 2106912 \n",
      "유임하차: 홍대입구 2210524 \n",
      "무임승차: 종로3가 318029 \n",
      "무임하차: 제기동 303921 \n"
     ]
    }
   ],
   "source": [
    "import csv\n",
    "import matplotlib.pyplot as plt\n",
    "\n",
    "filename = '2023년 10월  교통카드 통계자료.csv'\n",
    "\n",
    "f = open(filename, 'r', encoding='utf-8')\n",
    "data = csv.reader(f)\n",
    "\n",
    "header = next(data)\n",
    "대빵 = [0] * 4\n",
    "역 = [''] * 4\n",
    "정답 = ['유임승차', '유임하차', '무임승차', '무임하차']\n",
    "\n",
    "for i in data:\n",
    "    for j in range(4,8):       \n",
    "        \n",
    "        if 대빵[j-4] < int(i[j]):\n",
    "            대빵[j-4] = int(i[j])\n",
    "            역[j-4] = i[3]\n",
    "        \n",
    "    '''\n",
    "    if 유임승차 > 100 and 무임승차 > 100:\n",
    "    \n",
    "        비율 = 유임승차 / (유임승차 + 무임승차)\n",
    "        if 비율 > 대빵:\n",
    "            대빵 = 비율\n",
    "            역 = i[3]'''\n",
    "            \n",
    "for i in range(4):\n",
    "    print(f'{정답[i]}: {역[i]} {대빵[i]} ')"
   ]
  },
  {
   "cell_type": "code",
   "execution_count": 122,
   "id": "a4e6a720",
   "metadata": {},
   "outputs": [
    {
     "data": {
      "image/png": "[encoded data removed]",
      "text/plain": [
       "<Figure size 640x480 with 1 Axes>"
      ]
     },
     "metadata": {},
     "output_type": "display_data"
    }
   ],
   "source": [
    "plt.rc('font', family='Malgun Gothic')\n",
    "plt.pie(대빵, labels=정답, autopct = '%.2f%%')\n",
    "plt.show()"
   ]
  },
  {
   "cell_type": "code",
   "execution_count": null,
   "id": "edcf2a48",
   "metadata": {},
   "outputs": [],
   "source": [
    "header = result['header']\n",
    "data = result['data']\n",
    "\n",
    "# 데이터 초기 가공!!!\n",
    "for data_row in data:\n",
    "    for i in range(4, 8):\n",
    "        data_row[i] = int(data_row[i])\n",
    "\n",
    "#유무임 승하차 인원이 가장 많은 역?\n",
    "\n",
    "# 유임승차가 가장 많은 역?\n",
    "max_type = ['유임승차', '유임하차', '무임승차', '무임하차']\n",
    "max_length = len(max_type)\n",
    "max_val = [0] * max_length\n",
    "max_line = [''] * max_length\n",
    "max_station = [''] * max_length\n",
    "\n",
    "for data_row in data:\n",
    "    line = data_row[1]\n",
    "    station = data_row[3]\n",
    "    val = data_row[4:8] #유임승차수,유임하차수,무임승차수,무임하차수\n",
    "\n",
    "    for i in range(max_length):\n",
    "        if val[i] > max_val[i]:\n",
    "            max_val[i] = val[i]\n",
    "            max_line[i] = line\n",
    "            max_station[i] = station\n",
    "\n",
    "for i in range(max_length):\n",
    "    print(f'{max_type[i]} {max_line[i]:10} {text_full(max_station[i], 20)} {max_val[i]:>15,}')"
   ]
  }
 ],
 "metadata": {
  "kernelspec": {
   "display_name": "Python 3 (ipykernel)",
   "language": "python",
   "name": "python3"
  },
  "language_info": {
   "codemirror_mode": {
    "name": "ipython",
    "version": 3
   },
   "file_extension": ".py",
   "mimetype": "text/x-python",
   "name": "python",
   "nbconvert_exporter": "python",
   "pygments_lexer": "ipython3",
   "version": "3.11.5"
  }
 },
 "nbformat": 4,
 "nbformat_minor": 5
}
